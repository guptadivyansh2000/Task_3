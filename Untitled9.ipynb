{
  "nbformat": 4,
  "nbformat_minor": 0,
  "metadata": {
    "colab": {
      "name": "Untitled9.ipynb",
      "provenance": [],
      "authorship_tag": "ABX9TyPy7hpH0tMo5gZneoE5S9c/",
      "include_colab_link": true
    },
    "kernelspec": {
      "name": "python3",
      "display_name": "Python 3"
    },
    "language_info": {
      "name": "python"
    }
  },
  "cells": [
    {
      "cell_type": "markdown",
      "metadata": {
        "id": "view-in-github",
        "colab_type": "text"
      },
      "source": [
        "<a href=\"https://colab.research.google.com/github/guptadivyansh2000/Task_3/blob/main/Untitled9.ipynb\" target=\"_parent\"><img src=\"https://colab.research.google.com/assets/colab-badge.svg\" alt=\"Open In Colab\"/></a>"
      ]
    },
    {
      "cell_type": "markdown",
      "metadata": {
        "id": "mbDNG4WFooU-"
      },
      "source": [
        "**Task 3**\n",
        "**Registration ID : SIRSS1186**\n",
        "\n",
        "**Name: Divyansh Gupta**\n",
        "\n",
        "**Q1. Write a function to return nth term of Fibonacci sequence**"
      ]
    },
    {
      "cell_type": "code",
      "metadata": {
        "colab": {
          "base_uri": "https://localhost:8080/"
        },
        "id": "6QoLIuPJk1WX",
        "outputId": "8afa79d9-9983-4c84-93aa-af5c32453054"
      },
      "source": [
        "def fib(n):\n",
        "  if n<=1:\n",
        "    return n\n",
        "  else:\n",
        "    return fib(n-1)+fib(n-2)\n",
        "a=int(input('Enter a Number:'))\n",
        "\n",
        "if a<0:\n",
        "  print('enter the positive number')\n",
        "else:\n",
        "  for i in range(a):\n",
        "    print(fib(i),end=\" \")"
      ],
      "execution_count": 4,
      "outputs": [
        {
          "output_type": "stream",
          "text": [
            "Enter a Number:4\n",
            "0 1 1 2 "
          ],
          "name": "stdout"
        }
      ]
    },
    {
      "cell_type": "markdown",
      "metadata": {
        "id": "HrkGqH6tpGxI"
      },
      "source": [
        "**Q2. Write a function to find out GCD of two numbers using EUCLID'S algorithm**"
      ]
    },
    {
      "cell_type": "code",
      "metadata": {
        "colab": {
          "base_uri": "https://localhost:8080/"
        },
        "id": "p5ovPRPcnLS3",
        "outputId": "ff67403b-23d3-4aee-ea56-81a4398dcc19"
      },
      "source": [
        "def gcd(c, d) :\n",
        "    if d == 0 :\n",
        "        return c\n",
        "    else :\n",
        "        return gcd(d, c % d)\n",
        "\n",
        "a = int(input(\"Enter first Number : \"))\n",
        "b = int(input(\"Enter second Number : \"))\n",
        "        \n",
        "print(f\"GCD is \", gcd(a, b))"
      ],
      "execution_count": 9,
      "outputs": [
        {
          "output_type": "stream",
          "text": [
            "Enter first Number : 4\n",
            "Enter second Number : 8\n",
            "GCD is  4\n"
          ],
          "name": "stdout"
        }
      ]
    },
    {
      "cell_type": "markdown",
      "metadata": {
        "id": "tSFokenupQqp"
      },
      "source": [
        "**Q3. Write a function to find LCM of two number in most optimizers way**"
      ]
    },
    {
      "cell_type": "code",
      "metadata": {
        "id": "-y6mwo0jF29C"
      },
      "source": [
        "def gcd(c, d) :\n",
        "    if d == 0 :\n",
        "        return c\n",
        "    else :\n",
        "        return gcd(d, c % d)\n",
        "def lcm(c, d) :\n",
        "    return (c/gcd(c,d)) * d\n",
        "    \n",
        "\n",
        "a = int(input(\"Enter first Number : \"))\n",
        "b = int(input(\"Enter second Number : \"))\n"
      ],
      "execution_count": 6,
      "outputs": []
    },
    {
      "cell_type": "code",
      "metadata": {
        "colab": {
          "base_uri": "https://localhost:8080/"
        },
        "id": "xYoKJ6iDIZ2n",
        "outputId": "e3681b66-cdac-4e0d-be4e-2e4f77d78a3b"
      },
      "source": [
        "lcm(24,36)"
      ],
      "execution_count": 7,
      "outputs": [
        {
          "output_type": "execute_result",
          "data": {
            "text/plain": [
              "72.0"
            ]
          },
          "metadata": {
            "tags": []
          },
          "execution_count": 7
        }
      ]
    },
    {
      "cell_type": "code",
      "metadata": {
        "colab": {
          "base_uri": "https://localhost:8080/"
        },
        "id": "rWtjBF7iIkr1",
        "outputId": "7be3bb23-ace6-4f14-c248-fcbde0e6aeaf"
      },
      "source": [
        "lcm(5,4)"
      ],
      "execution_count": 8,
      "outputs": [
        {
          "output_type": "execute_result",
          "data": {
            "text/plain": [
              "20.0"
            ]
          },
          "metadata": {
            "tags": []
          },
          "execution_count": 8
        }
      ]
    },
    {
      "cell_type": "code",
      "metadata": {
        "id": "rRxBrTaMSZ-5"
      },
      "source": [
        ""
      ],
      "execution_count": null,
      "outputs": []
    }
  ]
}